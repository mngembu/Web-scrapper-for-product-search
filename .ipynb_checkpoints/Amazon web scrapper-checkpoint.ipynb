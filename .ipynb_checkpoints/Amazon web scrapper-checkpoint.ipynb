{
 "cells": [
  {
   "cell_type": "markdown",
   "id": "0300f0a7",
   "metadata": {},
   "source": [
    "## Building a web scrapper that extracts product search results from amazon.com <br> "
   ]
  },
  {
   "cell_type": "markdown",
   "id": "19eb57da",
   "metadata": {},
   "source": [
    "In this notebook, I am building a web scrapper for amazon.com. Given a search term, this scrapper will extract records from all pages in a search result and store them in a csv file. <br>As an example, we will be using \"bike lock\" as search term."
   ]
  },
  {
   "cell_type": "markdown",
   "id": "e474c7af",
   "metadata": {},
   "source": [
    "### Installing and importing the packages/libraries"
   ]
  },
  {
   "cell_type": "code",
   "execution_count": 1,
   "id": "8e81b442",
   "metadata": {},
   "outputs": [
    {
     "name": "stdout",
     "output_type": "stream",
     "text": [
      "Defaulting to user installation because normal site-packages is not writeable\n",
      "Requirement already satisfied: selenium in c:\\users\\amari\\appdata\\roaming\\python\\python39\\site-packages (4.4.3)\n",
      "Requirement already satisfied: urllib3[socks]~=1.26 in c:\\programdata\\anaconda3\\lib\\site-packages (from selenium) (1.26.9)\n",
      "Requirement already satisfied: trio-websocket~=0.9 in c:\\users\\amari\\appdata\\roaming\\python\\python39\\site-packages (from selenium) (0.9.2)\n",
      "Requirement already satisfied: trio~=0.17 in c:\\users\\amari\\appdata\\roaming\\python\\python39\\site-packages (from selenium) (0.21.0)\n",
      "Requirement already satisfied: certifi>=2021.10.8 in c:\\programdata\\anaconda3\\lib\\site-packages (from selenium) (2021.10.8)\n",
      "Requirement already satisfied: attrs>=19.2.0 in c:\\programdata\\anaconda3\\lib\\site-packages (from trio~=0.17->selenium) (21.4.0)\n",
      "Requirement already satisfied: async-generator>=1.9 in c:\\users\\amari\\appdata\\roaming\\python\\python39\\site-packages (from trio~=0.17->selenium) (1.10)\n",
      "Requirement already satisfied: sortedcontainers in c:\\programdata\\anaconda3\\lib\\site-packages (from trio~=0.17->selenium) (2.4.0)\n",
      "Requirement already satisfied: idna in c:\\programdata\\anaconda3\\lib\\site-packages (from trio~=0.17->selenium) (3.3)\n",
      "Requirement already satisfied: sniffio in c:\\programdata\\anaconda3\\lib\\site-packages (from trio~=0.17->selenium) (1.2.0)\n",
      "Requirement already satisfied: cffi>=1.14 in c:\\programdata\\anaconda3\\lib\\site-packages (from trio~=0.17->selenium) (1.15.0)\n",
      "Requirement already satisfied: outcome in c:\\users\\amari\\appdata\\roaming\\python\\python39\\site-packages (from trio~=0.17->selenium) (1.2.0)\n",
      "Requirement already satisfied: pycparser in c:\\programdata\\anaconda3\\lib\\site-packages (from cffi>=1.14->trio~=0.17->selenium) (2.21)\n",
      "Requirement already satisfied: wsproto>=0.14 in c:\\users\\amari\\appdata\\roaming\\python\\python39\\site-packages (from trio-websocket~=0.9->selenium) (1.2.0)\n",
      "Requirement already satisfied: PySocks!=1.5.7,<2.0,>=1.5.6 in c:\\programdata\\anaconda3\\lib\\site-packages (from urllib3[socks]~=1.26->selenium) (1.7.1)\n",
      "Requirement already satisfied: h11<1,>=0.9.0 in c:\\users\\amari\\appdata\\roaming\\python\\python39\\site-packages (from wsproto>=0.14->trio-websocket~=0.9->selenium) (0.13.0)\n",
      "Note: you may need to restart the kernel to use updated packages.\n"
     ]
    }
   ],
   "source": [
    "pip install selenium"
   ]
  },
  {
   "cell_type": "code",
   "execution_count": 2,
   "id": "8e3c0e95",
   "metadata": {},
   "outputs": [
    {
     "name": "stdout",
     "output_type": "stream",
     "text": [
      "Defaulting to user installation because normal site-packages is not writeable\n",
      "Requirement already satisfied: bs4 in c:\\users\\amari\\appdata\\roaming\\python\\python39\\site-packages (0.0.1)\n",
      "Requirement already satisfied: beautifulsoup4 in c:\\programdata\\anaconda3\\lib\\site-packages (from bs4) (4.11.1)\n",
      "Requirement already satisfied: soupsieve>1.2 in c:\\programdata\\anaconda3\\lib\\site-packages (from beautifulsoup4->bs4) (2.3.1)\n",
      "Note: you may need to restart the kernel to use updated packages.\n"
     ]
    }
   ],
   "source": [
    "pip install bs4"
   ]
  },
  {
   "cell_type": "code",
   "execution_count": 3,
   "id": "0fcb7098",
   "metadata": {},
   "outputs": [],
   "source": [
    "import csv\n",
    "from bs4 import BeautifulSoup\n",
    "from selenium import webdriver"
   ]
  },
  {
   "cell_type": "code",
   "execution_count": 4,
   "id": "8fe60b6c",
   "metadata": {},
   "outputs": [
    {
     "name": "stderr",
     "output_type": "stream",
     "text": [
      "C:\\Users\\amari\\AppData\\Local\\Temp\\ipykernel_22056\\418142941.py:2: DeprecationWarning: executable_path has been deprecated, please pass in a Service object\n",
      "  driver = webdriver.Chrome(\"C:/Users/amari/Downloads/chromedriver_win32/chromedriver.exe\")\n"
     ]
    }
   ],
   "source": [
    "# Creating an instance of the webdriver to start it up\n",
    "driver = webdriver.Chrome(\"C:/Users/amari/Downloads/chromedriver_win32/chromedriver.exe\")"
   ]
  },
  {
   "cell_type": "code",
   "execution_count": 5,
   "id": "45652dc7",
   "metadata": {},
   "outputs": [],
   "source": [
    "#navigate to the amazon website\n",
    "\n",
    "url = 'https://www.amazon.com'\n",
    "driver.get(url)"
   ]
  },
  {
   "cell_type": "code",
   "execution_count": 6,
   "id": "7d201056",
   "metadata": {},
   "outputs": [],
   "source": [
    "# writing a function that will generate a url based on the search terms provided\n",
    "\n",
    "def get_url(search_term):\n",
    "    \"\"\"Generate a url from search term\"\"\"\n",
    "    template = 'https://www.amazon.com/s?k={}&crid=2LEXIUFP0SED4&sprefix={}%2Caps%2C148&ref=nb_sb_noss_2'\n",
    "    search_term = search_term.replace(' ', '+')\n",
    "    return template.format(search_term, search_term)     #since the search term appears twice in the url when tried on amazon.com"
   ]
  },
  {
   "cell_type": "code",
   "execution_count": 7,
   "id": "2b19d79a",
   "metadata": {},
   "outputs": [
    {
     "name": "stdout",
     "output_type": "stream",
     "text": [
      "https://www.amazon.com/s?k=bike+lock&crid=2LEXIUFP0SED4&sprefix=bike+lock%2Caps%2C148&ref=nb_sb_noss_2\n"
     ]
    }
   ],
   "source": [
    "# Creating a url for the bike lock search\n",
    "\n",
    "url = get_url(\"bike lock\")\n",
    "print(url)"
   ]
  },
  {
   "cell_type": "code",
   "execution_count": 8,
   "id": "0063ea70",
   "metadata": {},
   "outputs": [],
   "source": [
    "driver.get(url)"
   ]
  },
  {
   "cell_type": "markdown",
   "id": "23efd1b9",
   "metadata": {},
   "source": [
    "### Extracting the content of the page from the html in the background"
   ]
  },
  {
   "cell_type": "code",
   "execution_count": 9,
   "id": "fa7b5b40",
   "metadata": {},
   "outputs": [],
   "source": [
    "#creating soup object which will parse the html content from the page source\n",
    "soup = BeautifulSoup(driver.page_source, 'html.parser')"
   ]
  },
  {
   "cell_type": "code",
   "execution_count": 10,
   "id": "0ac26cfb",
   "metadata": {},
   "outputs": [],
   "source": [
    "results = soup.find_all('div', {'data-component-type': 's-search-result'})\n"
   ]
  },
  {
   "cell_type": "code",
   "execution_count": 11,
   "id": "80b06b00",
   "metadata": {},
   "outputs": [
    {
     "data": {
      "text/plain": [
       "60"
      ]
     },
     "execution_count": 11,
     "metadata": {},
     "output_type": "execute_result"
    }
   ],
   "source": [
    "len(results)"
   ]
  },
  {
   "cell_type": "markdown",
   "id": "fdb81a80",
   "metadata": {},
   "source": [
    "### Prototyping the extraction of a single record"
   ]
  },
  {
   "cell_type": "code",
   "execution_count": 12,
   "id": "cebe37f0",
   "metadata": {},
   "outputs": [],
   "source": [
    "item = results[0]"
   ]
  },
  {
   "cell_type": "code",
   "execution_count": 13,
   "id": "23f586f1",
   "metadata": {},
   "outputs": [],
   "source": [
    "atag = item.h2.a"
   ]
  },
  {
   "cell_type": "code",
   "execution_count": 14,
   "id": "5b43ef74",
   "metadata": {},
   "outputs": [
    {
     "data": {
      "text/plain": [
       "'Amazon Basics 6 ft. Adjustable Keyed Bike Cable Lock, Black, 1-Pack'"
      ]
     },
     "execution_count": 14,
     "metadata": {},
     "output_type": "execute_result"
    }
   ],
   "source": [
    "description = atag.text.strip() \n",
    "description"
   ]
  },
  {
   "cell_type": "code",
   "execution_count": 15,
   "id": "7f934832",
   "metadata": {},
   "outputs": [
    {
     "data": {
      "text/plain": [
       "'https://www.amazon.com/gp/slredirect/picassoRedirect.html/ref=pa_sp_atf_aps_sr_pg1_1?ie=UTF8&adId=A06286401AL8JW588EPQT&url=%2FAmazonBasics-Adjustable-Keyed-Cable-1-Pack%2Fdp%2FB07T3F6JST%2Fref%3Dsr_1_1_sspa%3Fcrid%3D2LEXIUFP0SED4%26keywords%3Dbike%2Block%26qid%3D1663426663%26sprefix%3Dbike%2Block%252Caps%252C148%26sr%3D8-1-spons%26psc%3D1&qualifier=1663426663&id=2361120209523276&widgetName=sp_atf'"
      ]
     },
     "execution_count": 15,
     "metadata": {},
     "output_type": "execute_result"
    }
   ],
   "source": [
    "url = 'https://www.amazon.com' + atag.get('href')\n",
    "url"
   ]
  },
  {
   "cell_type": "code",
   "execution_count": 16,
   "id": "234988f2",
   "metadata": {},
   "outputs": [],
   "source": [
    "# getting the price\n",
    "price_parent = item.find('span', 'a-price')\n",
    "price = price_parent.find('span', 'a-offscreen').text"
   ]
  },
  {
   "cell_type": "code",
   "execution_count": 17,
   "id": "9149d48c",
   "metadata": {},
   "outputs": [],
   "source": [
    "# getting the ratings. Inspecting the stars shows that ratings are in the i tag\n",
    "\n",
    "rating = item.i.text"
   ]
  },
  {
   "cell_type": "code",
   "execution_count": 18,
   "id": "3bb02af7",
   "metadata": {},
   "outputs": [
    {
     "data": {
      "text/plain": [
       "'1,303'"
      ]
     },
     "execution_count": 18,
     "metadata": {},
     "output_type": "execute_result"
    }
   ],
   "source": [
    "#getting the reviews\n",
    "\n",
    "item.find('span', {'class':'a-size-base s-underline-text'}).text"
   ]
  },
  {
   "cell_type": "markdown",
   "id": "c89f98d5",
   "metadata": {},
   "source": [
    "### Generalizing the patttern of extraction within a function which can be applied to all the records on a page"
   ]
  },
  {
   "cell_type": "markdown",
   "id": "dce17cab",
   "metadata": {},
   "source": [
    "Here I incorporated some error handling. 5 attributes will be extracted from each record, but since some attributes may be missing in some records, AttributeError will need to be accomodated."
   ]
  },
  {
   "cell_type": "markdown",
   "id": "91b0d8f1",
   "metadata": {},
   "source": [
    "Add error handling: The above code assumes each record contains all 5 attributes, but that's not the case"
   ]
  },
  {
   "cell_type": "code",
   "execution_count": 19,
   "id": "c649a2ab",
   "metadata": {},
   "outputs": [],
   "source": [
    "def extract_record(item):\n",
    "    \"\"\"Extract and return data from a single record\"\"\"\n",
    "   \n",
    "    # description and url\n",
    "    atag = item.h2.a\n",
    "    description = atag.text.strip()\n",
    "    url = 'https://www.amazon.com' + atag.get('href')\n",
    "    \n",
    "    try:\n",
    "        #price\n",
    "        price_parent = item.find('span', 'a-price')\n",
    "        price = price_parent.find('span', 'a-offscreen').text\n",
    "    except AttributeError:\n",
    "        return\n",
    "    \n",
    "    try:\n",
    "        #rating & review(rank)\n",
    "        rating = item.i.text\n",
    "        review_count = item.find('span', {'class':'a-size-base s-underline-text'}).text\n",
    "    except AttributeError:\n",
    "        rating = ''\n",
    "        review_count = ''\n",
    "    \n",
    "    result = (description, price, rating, review_count, url)\n",
    "    \n",
    "    return result"
   ]
  },
  {
   "cell_type": "code",
   "execution_count": 20,
   "id": "cda058d9",
   "metadata": {},
   "outputs": [],
   "source": [
    "# apply the pattern to all records on the page \n",
    "\n",
    "records =[]\n",
    "results = soup.find_all('div', {'data-component-type': 's-search-result'})\n",
    "\n",
    "for item in results:\n",
    "    record = extract_record(item)\n",
    "    if record:   #ie, if record has something in it\n",
    "        records.append(record)"
   ]
  },
  {
   "cell_type": "code",
   "execution_count": 21,
   "id": "02408632",
   "metadata": {},
   "outputs": [
    {
     "data": {
      "text/plain": [
       "('Amazon Basics 6 ft. Adjustable Keyed Bike Cable Lock, Black, 1-Pack',\n",
       " '$13.91',\n",
       " '4.6 out of 5 stars',\n",
       " '1,303',\n",
       " 'https://www.amazon.com/gp/slredirect/picassoRedirect.html/ref=pa_sp_atf_aps_sr_pg1_1?ie=UTF8&adId=A06286401AL8JW588EPQT&url=%2FAmazonBasics-Adjustable-Keyed-Cable-1-Pack%2Fdp%2FB07T3F6JST%2Fref%3Dsr_1_1_sspa%3Fcrid%3D2LEXIUFP0SED4%26keywords%3Dbike%2Block%26qid%3D1663426663%26sprefix%3Dbike%2Block%252Caps%252C148%26sr%3D8-1-spons%26psc%3D1&qualifier=1663426663&id=2361120209523276&widgetName=sp_atf')"
      ]
     },
     "execution_count": 21,
     "metadata": {},
     "output_type": "execute_result"
    }
   ],
   "source": [
    "# viewing the first record\n",
    "records[0]"
   ]
  },
  {
   "cell_type": "markdown",
   "id": "41f35bba",
   "metadata": {},
   "source": [
    "### Getting the next page"
   ]
  },
  {
   "cell_type": "markdown",
   "id": "a910a6e6",
   "metadata": {},
   "source": [
    "On the amazon page, if you click on 'Next' and oberve the url of the next page, you notice a parameter for page number. We can add this page parameter to the url using string formatting. Amazon search gives a maximum of 20 pages"
   ]
  },
  {
   "cell_type": "code",
   "execution_count": 22,
   "id": "fcc7b6f2",
   "metadata": {},
   "outputs": [],
   "source": [
    "def get_url(search_term):\n",
    "    \"\"\"Generate a url from search term\"\"\"\n",
    "    template = 'https://www.amazon.com/s?k={}&crid=2LEXIUFP0SED4&sprefix={}%2Caps%2C148&ref=nb_sb_noss_2'\n",
    "    search_term = search_term.replace(' ', '+')\n",
    "    \n",
    "    # add term query to url\n",
    "    url = template.format(search_term, search_term)\n",
    "    \n",
    "    #add page query placeholder\n",
    "    url += '&page{}'  #this gives a place to insert the next page number (with string formatting)\n",
    "    \n",
    "    return url"
   ]
  },
  {
   "cell_type": "markdown",
   "id": "f9c3700b",
   "metadata": {},
   "source": [
    "### Putting all together"
   ]
  },
  {
   "cell_type": "code",
   "execution_count": 23,
   "id": "3e20532e",
   "metadata": {},
   "outputs": [],
   "source": [
    "import csv\n",
    "from bs4 import BeautifulSoup\n",
    "from selenium import webdriver\n",
    "\n",
    "\n",
    "def get_url(search_term):\n",
    "    \"\"\"Generate a url from search term\"\"\"\n",
    "    template = 'https://www.amazon.com/s?k={}&crid=2LEXIUFP0SED4&sprefix={}%2Caps%2C148&ref=nb_sb_noss_2'\n",
    "    search_term = search_term.replace(' ', '+')\n",
    "    \n",
    "    # add term query to url\n",
    "    url = template.format(search_term, search_term)\n",
    "    \n",
    "    #add page query placeholder\n",
    "    url += '&page{}'  #this gives a place to insert the next page number (with string formatting)\n",
    "    \n",
    "    return url\n",
    "\n",
    "def extract_record(item):\n",
    "    \"\"\"Extract and return data from a single record\"\"\"\n",
    "   \n",
    "    # description and url\n",
    "    atag = item.h2.a\n",
    "    description = atag.text.strip()\n",
    "    url = 'https://www.amazon.com' + atag.get('href')\n",
    "    \n",
    "    try:\n",
    "        #price\n",
    "        price_parent = item.find('span', 'a-price')\n",
    "        price = price_parent.find('span', 'a-offscreen').text\n",
    "    except AttributeError:\n",
    "        return\n",
    "    \n",
    "    try:\n",
    "        #rating & review(rank)\n",
    "        rating = item.i.text\n",
    "        review_count = item.find('span', {'class':'a-size-base s-underline-text'}).text\n",
    "    except AttributeError:\n",
    "        rating = ''\n",
    "        review_count = ''\n",
    "    \n",
    "    result = (description, price, rating, review_count, url)\n",
    "    \n",
    "    return result\n",
    "\n",
    "def main(search_term):\n",
    "    \"\"\"Run main program routine\"\"\"\n",
    "    #startup the web driver\n",
    "    driver = webdriver.Chrome(\"C:/Users/amari/Downloads/chromedriver_win32/chromedriver.exe\")\n",
    "    \n",
    "    records = []\n",
    "    url = get_url(search_term)\n",
    "    \n",
    "    for page in range (1, 21):\n",
    "        driver.get(url.format(page))\n",
    "        soup = BeautifulSoup(driver.page_source, 'html.parser')\n",
    "        results = soup.find_all('div', {'data-component-type': 's-search-result'})\n",
    "        \n",
    "        for item in results:\n",
    "            record = extract_record(item)\n",
    "            if record:\n",
    "                records.append(record)\n",
    "                \n",
    "    driver.close()\n",
    "    \n",
    "    #save data to csv\n",
    "    with open('results.csv', 'w', newline='', encoding='utf-8') as f:\n",
    "        writer = csv.writer(f)\n",
    "        writer.writerow(['Description', 'Price', 'Rating', 'ReviewCount', 'url'])\n",
    "        writer.writerows(records)\n",
    "    "
   ]
  },
  {
   "cell_type": "code",
   "execution_count": 24,
   "id": "e8256754",
   "metadata": {},
   "outputs": [
    {
     "name": "stderr",
     "output_type": "stream",
     "text": [
      "C:\\Users\\amari\\AppData\\Local\\Temp\\ipykernel_22056\\3805914634.py:49: DeprecationWarning: executable_path has been deprecated, please pass in a Service object\n",
      "  driver = webdriver.Chrome(\"C:/Users/amari/Downloads/chromedriver_win32/chromedriver.exe\")\n"
     ]
    }
   ],
   "source": [
    "main('bike lock')"
   ]
  },
  {
   "cell_type": "code",
   "execution_count": null,
   "id": "3364e611",
   "metadata": {},
   "outputs": [],
   "source": []
  },
  {
   "cell_type": "code",
   "execution_count": null,
   "id": "4b92f615",
   "metadata": {},
   "outputs": [],
   "source": []
  }
 ],
 "metadata": {
  "kernelspec": {
   "display_name": "Python 3 (ipykernel)",
   "language": "python",
   "name": "python3"
  },
  "language_info": {
   "codemirror_mode": {
    "name": "ipython",
    "version": 3
   },
   "file_extension": ".py",
   "mimetype": "text/x-python",
   "name": "python",
   "nbconvert_exporter": "python",
   "pygments_lexer": "ipython3",
   "version": "3.9.12"
  }
 },
 "nbformat": 4,
 "nbformat_minor": 5
}
